{
 "cells": [
  {
   "cell_type": "code",
   "execution_count": 3,
   "id": "1bb7b412",
   "metadata": {},
   "outputs": [],
   "source": [
    "import urllib.request\n",
    "import ssl\n",
    "from datetime import datetime\n",
    "\n",
    "\n",
    "ssl._create_default_https_context = ssl._create_unverified_context\n",
    "\n",
    "for i in range(1, 28):\n",
    "    url='https://www.star.nesdis.noaa.gov/smcd/emb/vci/VH/get_TS_admin.php?country=UKR&provinceID={}&year1=1981&year2=2022&type=Mean'.format(i)\n",
    "    wp = urllib.request.urlopen(url)\n",
    "    text = wp.read()\n",
    "    date_and_time_time = datetime.strftime(datetime.now(), \"%Y_%m_%d_%H_%M_%S\")\n",
    "    out = open('NOAA_ID'+str(i)+'_'+date_and_time_time+'.csv','wb')\n",
    "    out.write(text)\n",
    "    out.close()"
   ]
  },
  {
   "cell_type": "code",
   "execution_count": 115,
   "id": "b9625412",
   "metadata": {},
   "outputs": [],
   "source": [
    "import os\n",
    "import pandas as pd\n",
    "\n",
    "def concat_df(path):\n",
    "    d = {1:\"Черкаська\", 2:\"Чернівська\", 3:\"Чернівецька\", 4:\"Кримська\", 5:\"Дніпропетровська\", 6:\"Донецька\", 7:\"Івано-Франківська\",\n",
    "        8:\"Харківська\", 9:\"Херсонська\", 10:\"Хмельницька\", 11:\"Київська\", 12:\"Київ\", 13:\"Кіровоградська\", 14:\"Луганська\",\n",
    "        15:\"Львівська\", 16:\"Миколаївська\", 17:\"Одеська\", 18:\"Полтавська\", 19:\"Рівенська\", 20:\"Севастопіль\", 21:\"Сумська\",\n",
    "        22:\"Тернопільська\", 23:\"Закарпатська\", 24:\"Вінницька\", 25:\"Волинська\", 26:\"Запорізька\", 27:\"Житомирська\"}\n",
    "    df1 = pd.DataFrame()\n",
    "    headers = ['Year', 'Week', 'SMN', 'SMT', 'VCI', 'TCI', 'VHI', 'region']\n",
    "    for i in range(1, 28):\n",
    "        string = \"NOAA_ID{}_\".format(i)\n",
    "        name = [_ for _ in os.listdir(path) if _.startswith(string)]\n",
    "        df2 = pd.read_csv(name[0], header = 1, names = headers)\n",
    "        df2 = df2.drop(df2.loc[df2['VHI'] == -1].index)\n",
    "        df2 = df2.drop(df2.loc[df2[\"Year\"] == \"</pre></tt>\"].index)\n",
    "        df2.loc[0, \"Year\"] = \"1982\"\n",
    "        df2.region = d[i]\n",
    "        df1 = pd.concat([df1, df2], ignore_index=True)\n",
    "    df1.Year = pd.to_numeric(df1.Year)\n",
    "    return df1\n",
    "\n"
   ]
  },
  {
   "cell_type": "code",
   "execution_count": 135,
   "id": "1480bccd",
   "metadata": {},
   "outputs": [],
   "source": [
    "fileDir = r\"C:\\Users\\maks1\\Untitled Folder\"\n",
    "fd = concat_df(fileDir)\n"
   ]
  },
  {
   "cell_type": "code",
   "execution_count": 136,
   "id": "068224dd",
   "metadata": {},
   "outputs": [],
   "source": [
    "def VHI_y_r(df, year, region):\n",
    "    res_df = df[(df[\"Year\"] == year) & (df[\"region\"] == region)][\"VHI\"]\n",
    "    print(\"Min vaue \",res_df.min(), \", Max value\", res_df.max())\n",
    "    return res_df\n",
    "\n",
    "def exctreme_dry(df, region):\n",
    "    res_df = df[(df[\"region\"] == region) & (df[\"VHI\"] < 15)][\"Year\"]\n",
    "    return res_df\n",
    "\n",
    "def moderate_dry(df, region):\n",
    "    res_df = df[(df[\"region\"] == region) & (df[\"VHI\"] > 15) & (df[\"VHI\"] < 35)][\"Year\"]\n",
    "    return res_df"
   ]
  },
  {
   "cell_type": "code",
   "execution_count": 139,
   "id": "9d0f3b7c",
   "metadata": {
    "scrolled": true
   },
   "outputs": [
    {
     "name": "stdout",
     "output_type": "stream",
     "text": [
      "Min vaue  32.91 , Max value 74.22\n"
     ]
    },
    {
     "data": {
      "text/plain": [
       "32021    2007\n",
       "32022    2007\n",
       "32023    2007\n",
       "32024    2007\n",
       "32025    2007\n",
       "32026    2007\n",
       "32027    2007\n",
       "32028    2007\n",
       "32029    2007\n",
       "32030    2007\n",
       "Name: Year, dtype: int64"
      ]
     },
     "execution_count": 139,
     "metadata": {},
     "output_type": "execute_result"
    }
   ],
   "source": [
    "one = VHI_y_r(fd, 2008, \"Житомирська\")\n",
    "two = exctreme_dry(fd, \"Миколаївська\")\n",
    "three = moderate_dry(df, \"Тернопільська\")\n",
    "\n",
    "one"
   ]
  },
  {
   "cell_type": "code",
   "execution_count": 140,
   "id": "c6480959",
   "metadata": {},
   "outputs": [
    {
     "data": {
      "text/plain": [
       "32021    2007\n",
       "32022    2007\n",
       "32023    2007\n",
       "32024    2007\n",
       "32025    2007\n",
       "32026    2007\n",
       "32027    2007\n",
       "32028    2007\n",
       "32029    2007\n",
       "32030    2007\n",
       "Name: Year, dtype: int64"
      ]
     },
     "execution_count": 140,
     "metadata": {},
     "output_type": "execute_result"
    }
   ],
   "source": [
    "two"
   ]
  },
  {
   "cell_type": "code",
   "execution_count": 141,
   "id": "98fe2786",
   "metadata": {},
   "outputs": [
    {
     "data": {
      "text/plain": [
       "43055    1982\n",
       "43056    1982\n",
       "43057    1982\n",
       "43058    1982\n",
       "43059    1982\n",
       "         ... \n",
       "44967    2019\n",
       "44968    2019\n",
       "44969    2019\n",
       "44970    2019\n",
       "44971    2019\n",
       "Name: Year, Length: 224, dtype: object"
      ]
     },
     "execution_count": 141,
     "metadata": {},
     "output_type": "execute_result"
    }
   ],
   "source": [
    "three"
   ]
  }
 ],
 "metadata": {
  "kernelspec": {
   "display_name": "Python 3 (ipykernel)",
   "language": "python",
   "name": "python3"
  },
  "language_info": {
   "codemirror_mode": {
    "name": "ipython",
    "version": 3
   },
   "file_extension": ".py",
   "mimetype": "text/x-python",
   "name": "python",
   "nbconvert_exporter": "python",
   "pygments_lexer": "ipython3",
   "version": "3.9.12"
  }
 },
 "nbformat": 4,
 "nbformat_minor": 5
}
