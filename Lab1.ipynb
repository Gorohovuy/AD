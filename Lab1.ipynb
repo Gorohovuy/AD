{
 "cells": [
  {
   "cell_type": "code",
   "execution_count": 3,
   "id": "1bb7b412",
   "metadata": {},
   "outputs": [],
   "source": [
    "import urllib.request\n",
    "import ssl\n",
    "from datetime import datetime\n",
    "\n",
    "\n",
    "ssl._create_default_https_context = ssl._create_unverified_context\n",
    "\n",
    "for i in range(1, 28):\n",
    "    url='https://www.star.nesdis.noaa.gov/smcd/emb/vci/VH/get_TS_admin.php?country=UKR&provinceID={}&year1=1981&year2=2022&type=Mean'.format(i)\n",
    "    wp = urllib.request.urlopen(url)\n",
    "    text = wp.read()\n",
    "    date_and_time_time = datetime.strftime(datetime.now(), \"%Y_%m_%d_%H_%M_%S\")\n",
    "    out = open('NOAA_ID'+str(i)+'_'+date_and_time_time+'.csv','wb')\n",
    "    out.write(text)\n",
    "    out.close()"
   ]
  },
  {
   "cell_type": "code",
   "execution_count": 1,
   "id": "b9625412",
   "metadata": {},
   "outputs": [],
   "source": [
    "import os\n",
    "import pandas as pd\n",
    "\n",
    "def concat_df(path):\n",
    "    d = {1:\"Черкаська\", 2:\"Чернівська\", 3:\"Чернівецька\", 4:\"Кримська\", 5:\"Дніпропетровська\", 6:\"Донецька\", 7:\"Івано-Франківська\",\n",
    "        8:\"Харківська\", 9:\"Херсонська\", 10:\"Хмельницька\", 11:\"Київська\", 12:\"Київ\", 13:\"Кіровоградська\", 14:\"Луганська\",\n",
    "        15:\"Львівська\", 16:\"Миколаївська\", 17:\"Одеська\", 18:\"Полтавська\", 19:\"Рівенська\", 20:\"Севастопіль\", 21:\"Сумська\",\n",
    "        22:\"Тернопільська\", 23:\"Закарпатська\", 24:\"Вінницька\", 25:\"Волинська\", 26:\"Запорізька\", 27:\"Житомирська\"}\n",
    "    df1 = pd.DataFrame()\n",
    "    headers = ['Year', 'Week', 'SMN', 'SMT', 'VCI', 'TCI', 'VHI', 'region']\n",
    "    for i in range(1, 28):\n",
    "        string = \"NOAA_ID{}_\".format(i)\n",
    "        name = [_ for _ in os.listdir(path) if _.startswith(string)]\n",
    "        df2 = pd.read_csv(name[0], header = 1, names = headers)\n",
    "        df2 = df2.drop(df2.loc[df2['VHI'] == -1].index)\n",
    "        df2 = df2.drop(df2.loc[df2[\"Year\"] == \"</pre></tt>\"].index)\n",
    "        df2.loc[0, \"Year\"] = \"1982\"\n",
    "        df2.region = d[i]\n",
    "        df1 = pd.concat([df1, df2], ignore_index=True)\n",
    "    df1.Year = pd.to_numeric(df1.Year)\n",
    "    return df1\n",
    "\n"
   ]
  },
  {
   "cell_type": "code",
   "execution_count": 2,
   "id": "1480bccd",
   "metadata": {},
   "outputs": [],
   "source": [
    "fileDir = r\"C:\\Users\\maks1\\Untitled Folder\"\n",
    "fd = concat_df(fileDir)\n"
   ]
  },
  {
   "cell_type": "code",
   "execution_count": 3,
   "id": "068224dd",
   "metadata": {},
   "outputs": [],
   "source": [
    "def VHI_y_r(df, year, region):\n",
    "    res_df = df[(df[\"Year\"] == year) & (df[\"region\"] == region)][\"VHI\"]\n",
    "    print(\"Min vaue \",res_df.min(), \", Max value\", res_df.max())\n",
    "    return res_df\n",
    "\n",
    "def exctreme_dry(df, region):\n",
    "    res_df = df[(df[\"region\"] == region) & (df[\"VHI\"] < 15)][\"Year\"]\n",
    "    return res_df\n",
    "\n",
    "def moderate_dry(df, region):\n",
    "    res_df = df[(df[\"region\"] == region) & (df[\"VHI\"] > 15) & (df[\"VHI\"] < 35)][\"Year\"]\n",
    "    return res_df"
   ]
  },
  {
   "cell_type": "code",
   "execution_count": 5,
   "id": "9d0f3b7c",
   "metadata": {
    "scrolled": true
   },
   "outputs": [
    {
     "name": "stdout",
     "output_type": "stream",
     "text": [
      "Min vaue  32.91 , Max value 74.22\n"
     ]
    },
    {
     "data": {
      "text/plain": [
       "54602    40.93\n",
       "54603    43.63\n",
       "54604    49.01\n",
       "54605    50.15\n",
       "54606    51.21\n",
       "54607    52.31\n",
       "54608    51.46\n",
       "54609    51.12\n",
       "54610    50.96\n",
       "54611    50.87\n",
       "54612    48.75\n",
       "54613    49.91\n",
       "54614    51.48\n",
       "54615    52.99\n",
       "54616    57.65\n",
       "54617    65.06\n",
       "54618    70.01\n",
       "54619    72.85\n",
       "54620    73.99\n",
       "54621    74.22\n",
       "54622    73.07\n",
       "54623    72.39\n",
       "54624    69.96\n",
       "54625    65.62\n",
       "54626    63.87\n",
       "54627    59.75\n",
       "54628    54.69\n",
       "54629    52.26\n",
       "54630    50.30\n",
       "54631    49.05\n",
       "54632    51.72\n",
       "54633    50.83\n",
       "54634    41.76\n",
       "54635    36.08\n",
       "54636    32.91\n",
       "54637    34.71\n",
       "54638    37.07\n",
       "54639    37.78\n",
       "54640    36.52\n",
       "54641    34.53\n",
       "54642    33.94\n",
       "54643    34.87\n",
       "54644    38.12\n",
       "54645    42.66\n",
       "54646    48.23\n",
       "54647    50.24\n",
       "54648    52.83\n",
       "54649    53.58\n",
       "54650    52.07\n",
       "54651    50.33\n",
       "54652    48.23\n",
       "54653    47.09\n",
       "Name: VHI, dtype: float64"
      ]
     },
     "execution_count": 5,
     "metadata": {},
     "output_type": "execute_result"
    }
   ],
   "source": [
    "one = VHI_y_r(fd, 2008, \"Житомирська\")\n",
    "two = exctreme_dry(fd, \"Миколаївська\")\n",
    "three = moderate_dry(fd, \"Тернопільська\")\n",
    "\n",
    "one"
   ]
  },
  {
   "cell_type": "code",
   "execution_count": 6,
   "id": "c6480959",
   "metadata": {},
   "outputs": [
    {
     "data": {
      "text/plain": [
       "32021    2007\n",
       "32022    2007\n",
       "32023    2007\n",
       "32024    2007\n",
       "32025    2007\n",
       "32026    2007\n",
       "32027    2007\n",
       "32028    2007\n",
       "32029    2007\n",
       "32030    2007\n",
       "Name: Year, dtype: int64"
      ]
     },
     "execution_count": 6,
     "metadata": {},
     "output_type": "execute_result"
    }
   ],
   "source": [
    "two"
   ]
  },
  {
   "cell_type": "code",
   "execution_count": 7,
   "id": "98fe2786",
   "metadata": {},
   "outputs": [
    {
     "data": {
      "text/plain": [
       "43055    1982\n",
       "43056    1982\n",
       "43057    1982\n",
       "43058    1982\n",
       "43059    1982\n",
       "         ... \n",
       "44967    2019\n",
       "44968    2019\n",
       "44969    2019\n",
       "44970    2019\n",
       "44971    2019\n",
       "Name: Year, Length: 224, dtype: int64"
      ]
     },
     "execution_count": 7,
     "metadata": {},
     "output_type": "execute_result"
    }
   ],
   "source": [
    "three"
   ]
  },
  {
   "cell_type": "code",
   "execution_count": 1,
   "id": "53632ffa",
   "metadata": {},
   "outputs": [
    {
     "ename": "ModuleNotFoundError",
     "evalue": "No module named 'spyre'",
     "output_type": "error",
     "traceback": [
      "\u001b[1;31m---------------------------------------------------------------------------\u001b[0m",
      "\u001b[1;31mModuleNotFoundError\u001b[0m                       Traceback (most recent call last)",
      "Input \u001b[1;32mIn [1]\u001b[0m, in \u001b[0;36m<cell line: 1>\u001b[1;34m()\u001b[0m\n\u001b[1;32m----> 1\u001b[0m \u001b[38;5;28;01mimport\u001b[39;00m \u001b[38;5;21;01mspyre\u001b[39;00m\n",
      "\u001b[1;31mModuleNotFoundError\u001b[0m: No module named 'spyre'"
     ]
    }
   ],
   "source": [
    "import spyre\n"
   ]
  }
 ],
 "metadata": {
  "kernelspec": {
   "display_name": "Python 3 (ipykernel)",
   "language": "python",
   "name": "python3"
  },
  "language_info": {
   "codemirror_mode": {
    "name": "ipython",
    "version": 3
   },
   "file_extension": ".py",
   "mimetype": "text/x-python",
   "name": "python",
   "nbconvert_exporter": "python",
   "pygments_lexer": "ipython3",
   "version": "3.9.12"
  }
 },
 "nbformat": 4,
 "nbformat_minor": 5
}
